{
 "cells": [
  {
   "cell_type": "markdown",
   "metadata": {},
   "source": [
    "# Part (b) "
   ]
  },
  {
   "cell_type": "markdown",
   "metadata": {},
   "source": [
    "# Title : Restaurant recommender system for Bangalore"
   ]
  },
  {
   "cell_type": "markdown",
   "metadata": {},
   "source": [
    "# Data requirements :\n",
    "\n",
    "For building an recommendation system we required below mentioned details:\n",
    "\n",
    "Geographical Data : \n",
    "    \n",
    "    To access location of a restaurant, its Latitude and Longitude is to be known so that we can point at its\n",
    "    coordinates and create a map displaying all the restaurants with its labels respectively.\n",
    "            \n",
    "Demographic Data  : \n",
    "    \n",
    "    Population of the neighborhood where the restaurant is located, it helps us to determine the restaurant's \n",
    "    growth and amount of expected customers who turn up to eat.\n",
    "        \n",
    "Financial Data    :\n",
    "    \n",
    "    Average income of neighborhood to know how much is the restaurant worth.Income is directly proportional to \n",
    "    richness of a neighborhood. If people in a neighborhood earns more than an average income, then there is \n",
    "    posibility that they will spend more however it is not always true.\n",
    "\n",
    "FourSquare API    : \n",
    "    \n",
    "    We are using foursquare api to fetch data for nearest locations so that we can use them to form a cluster. "
   ]
  },
  {
   "cell_type": "code",
   "execution_count": null,
   "metadata": {},
   "outputs": [],
   "source": []
  }
 ],
 "metadata": {
  "kernelspec": {
   "display_name": "Python 3",
   "language": "python",
   "name": "python3"
  },
  "language_info": {
   "codemirror_mode": {
    "name": "ipython",
    "version": 3
   },
   "file_extension": ".py",
   "mimetype": "text/x-python",
   "name": "python",
   "nbconvert_exporter": "python",
   "pygments_lexer": "ipython3",
   "version": "3.6.10"
  }
 },
 "nbformat": 4,
 "nbformat_minor": 4
}
