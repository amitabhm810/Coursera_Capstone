{
 "cells": [
  {
   "cell_type": "markdown",
   "metadata": {},
   "source": [
    "# Week 4 : Part (a)"
   ]
  },
  {
   "cell_type": "markdown",
   "metadata": {},
   "source": [
    "# Title : Restaurant recommender system for Bangalore"
   ]
  },
  {
   "cell_type": "markdown",
   "metadata": {},
   "source": [
    "# Problem background :\n",
    "\n",
    "Bangalore is considered as IT Hub as well as largest city of the Indian state of Karnataka. \n",
    "With a population of over 13 million, Bangalore is considered as the third largest city in India.\n",
    "\n",
    "Bangalore can also be called a foodie's paradise because of its vast variety of foods and edibles with a touch of \n",
    "Bangalore's uniqueness and tradition. All kind of foods from Roadside vendors, tea stalls, South or North Indian, \n",
    "Chinese and Western fast food are popular in the city. "
   ]
  },
  {
   "cell_type": "markdown",
   "metadata": {},
   "source": [
    "# Problem description :\n",
    "    \n",
    "For any traveller or any new person food can be an important factor for decided how you rate your trips and plus also \n",
    "recommmending it to the people. Food also plays a major factor in attracting various people around to globe. In such \n",
    "conditions it becomes utmost important to find the right place, at a reasonable cost.Bleow are few question which should be \n",
    "addressed , such as:\n",
    "\n",
    "    -> Various cusines available in the restaurant ?\n",
    "\n",
    "    -> restaurants nearest to me?\n",
    "\n",
    "    -> Rating of various resturants ? etc.\n",
    "\n",
    "our task is to find out solutions to these kind of questions as well as build a system that can help in recommending new \n",
    "resturants based on their rankings.\n",
    "\n",
    "we are expecting our recommendation system to address below mentioned issues:\n",
    "\n",
    "    -> Types of restaurants are present in a particular area ?\n",
    "\n",
    "    -> Ranking of various restaurants based on different preferences ? etc."
   ]
  },
  {
   "cell_type": "markdown",
   "metadata": {},
   "source": [
    "# Target audience :\n",
    "    \n",
    "we are targeting not just traveller but everyone who are new to the city. People might decide to look for a similar \n",
    "restaurant because they are comfortable with a specific cuisine. People will look for resturants nearby them and all \n",
    "this could be easily handed by our recommender system. So our target is basically everyone who are exploring new places."
   ]
  },
  {
   "cell_type": "markdown",
   "metadata": {},
   "source": [
    "# Success rate :\n",
    "    \n",
    "With restaurants evolving, we need a system that could help us access vast number of food varieties. With the help of\n",
    "Machine learning we will try to build our personal system which will guide us based on our likes and dislikes. \n",
    "As we are helping people by providing them with their personal assistance and so the success rate could certainly \n",
    "increase with time."
   ]
  },
  {
   "cell_type": "code",
   "execution_count": null,
   "metadata": {},
   "outputs": [],
   "source": []
  }
 ],
 "metadata": {
  "kernelspec": {
   "display_name": "Python 3",
   "language": "python",
   "name": "python3"
  },
  "language_info": {
   "codemirror_mode": {
    "name": "ipython",
    "version": 3
   },
   "file_extension": ".py",
   "mimetype": "text/x-python",
   "name": "python",
   "nbconvert_exporter": "python",
   "pygments_lexer": "ipython3",
   "version": "3.6.10"
  }
 },
 "nbformat": 4,
 "nbformat_minor": 4
}
